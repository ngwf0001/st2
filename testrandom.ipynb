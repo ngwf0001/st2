{
 "cells": [
  {
   "cell_type": "code",
   "execution_count": 12,
   "metadata": {},
   "outputs": [
    {
     "name": "stdout",
     "output_type": "stream",
     "text": [
      "[[-1.84623596]\n",
      " [ 0.30315715]\n",
      " [ 0.68588065]\n",
      " [-0.84574019]\n",
      " [-1.47834101]]\n",
      "(5, 1)\n"
     ]
    },
    {
     "data": {
      "text/plain": [
       "array([[-1.84623596],\n",
       "       [-1.54307881],\n",
       "       [-0.85719817],\n",
       "       [-1.70293836],\n",
       "       [-3.18127937]])"
      ]
     },
     "execution_count": 12,
     "metadata": {},
     "output_type": "execute_result"
    }
   ],
   "source": [
    "import numpy as np\n",
    "x = np.random.randn(5,1)\n",
    "print(x)\n",
    "print(x.shape)\n",
    "y= x.cumsum(axis=0)\n",
    "y\n"
   ]
  },
  {
   "cell_type": "code",
   "execution_count": 21,
   "metadata": {},
   "outputs": [
    {
     "data": {
      "text/plain": [
       "<bound method DataFrame.reindex of            iss_position  message           timestamp\n",
       "latitude       -40.6331  success 2023-05-13 06:54:53\n",
       "longitude       29.8215  success 2023-05-13 06:54:53\n",
       "latitude       -40.6888  success 2023-05-13 06:54:54\n",
       "longitude       29.9197  success 2023-05-13 06:54:54\n",
       "latitude       -40.7443  success 2023-05-13 06:54:56\n",
       "longitude       30.0181  success 2023-05-13 06:54:56\n",
       "latitude       -40.7813  success 2023-05-13 06:54:57\n",
       "longitude       30.0837  success 2023-05-13 06:54:57>"
      ]
     },
     "execution_count": 21,
     "metadata": {},
     "output_type": "execute_result"
    }
   ],
   "source": [
    "import pandas as pd\n",
    "import time\n",
    "\n",
    "a = pd.read_json('http://api.open-notify.org/iss-now.json')\n",
    "for _ in range(3):\n",
    "    time.sleep(1)\n",
    "    a = pd.concat(objs=[a, pd.read_json('http://api.open-notify.org/iss-now.json')])\n",
    "a.reindex"
   ]
  },
  {
   "cell_type": "code",
   "execution_count": 28,
   "metadata": {},
   "outputs": [
    {
     "data": {
      "text/html": [
       "<div>\n",
       "<style scoped>\n",
       "    .dataframe tbody tr th:only-of-type {\n",
       "        vertical-align: middle;\n",
       "    }\n",
       "\n",
       "    .dataframe tbody tr th {\n",
       "        vertical-align: top;\n",
       "    }\n",
       "\n",
       "    .dataframe thead th {\n",
       "        text-align: right;\n",
       "    }\n",
       "</style>\n",
       "<table border=\"1\" class=\"dataframe\">\n",
       "  <thead>\n",
       "    <tr style=\"text-align: right;\">\n",
       "      <th></th>\n",
       "      <th>level_0</th>\n",
       "      <th>index</th>\n",
       "      <th>iss_position</th>\n",
       "      <th>message</th>\n",
       "      <th>timestamp</th>\n",
       "    </tr>\n",
       "  </thead>\n",
       "  <tbody>\n",
       "    <tr>\n",
       "      <th>0</th>\n",
       "      <td>0</td>\n",
       "      <td>latitude</td>\n",
       "      <td>-40.6331</td>\n",
       "      <td>success</td>\n",
       "      <td>2023-05-13 06:54:53</td>\n",
       "    </tr>\n",
       "    <tr>\n",
       "      <th>1</th>\n",
       "      <td>1</td>\n",
       "      <td>longitude</td>\n",
       "      <td>29.8215</td>\n",
       "      <td>success</td>\n",
       "      <td>2023-05-13 06:54:53</td>\n",
       "    </tr>\n",
       "    <tr>\n",
       "      <th>2</th>\n",
       "      <td>2</td>\n",
       "      <td>latitude</td>\n",
       "      <td>-40.6888</td>\n",
       "      <td>success</td>\n",
       "      <td>2023-05-13 06:54:54</td>\n",
       "    </tr>\n",
       "    <tr>\n",
       "      <th>3</th>\n",
       "      <td>3</td>\n",
       "      <td>longitude</td>\n",
       "      <td>29.9197</td>\n",
       "      <td>success</td>\n",
       "      <td>2023-05-13 06:54:54</td>\n",
       "    </tr>\n",
       "    <tr>\n",
       "      <th>4</th>\n",
       "      <td>4</td>\n",
       "      <td>latitude</td>\n",
       "      <td>-40.7443</td>\n",
       "      <td>success</td>\n",
       "      <td>2023-05-13 06:54:56</td>\n",
       "    </tr>\n",
       "    <tr>\n",
       "      <th>5</th>\n",
       "      <td>5</td>\n",
       "      <td>longitude</td>\n",
       "      <td>30.0181</td>\n",
       "      <td>success</td>\n",
       "      <td>2023-05-13 06:54:56</td>\n",
       "    </tr>\n",
       "    <tr>\n",
       "      <th>6</th>\n",
       "      <td>6</td>\n",
       "      <td>latitude</td>\n",
       "      <td>-40.7813</td>\n",
       "      <td>success</td>\n",
       "      <td>2023-05-13 06:54:57</td>\n",
       "    </tr>\n",
       "    <tr>\n",
       "      <th>7</th>\n",
       "      <td>7</td>\n",
       "      <td>longitude</td>\n",
       "      <td>30.0837</td>\n",
       "      <td>success</td>\n",
       "      <td>2023-05-13 06:54:57</td>\n",
       "    </tr>\n",
       "  </tbody>\n",
       "</table>\n",
       "</div>"
      ],
      "text/plain": [
       "   level_0      index  iss_position  message           timestamp\n",
       "0        0   latitude      -40.6331  success 2023-05-13 06:54:53\n",
       "1        1  longitude       29.8215  success 2023-05-13 06:54:53\n",
       "2        2   latitude      -40.6888  success 2023-05-13 06:54:54\n",
       "3        3  longitude       29.9197  success 2023-05-13 06:54:54\n",
       "4        4   latitude      -40.7443  success 2023-05-13 06:54:56\n",
       "5        5  longitude       30.0181  success 2023-05-13 06:54:56\n",
       "6        6   latitude      -40.7813  success 2023-05-13 06:54:57\n",
       "7        7  longitude       30.0837  success 2023-05-13 06:54:57"
      ]
     },
     "execution_count": 28,
     "metadata": {},
     "output_type": "execute_result"
    }
   ],
   "source": [
    "a.reset_index(inplace=True, drop=True)\n",
    "a"
   ]
  }
 ],
 "metadata": {
  "kernelspec": {
   "display_name": ".venv",
   "language": "python",
   "name": "python3"
  },
  "language_info": {
   "codemirror_mode": {
    "name": "ipython",
    "version": 3
   },
   "file_extension": ".py",
   "mimetype": "text/x-python",
   "name": "python",
   "nbconvert_exporter": "python",
   "pygments_lexer": "ipython3",
   "version": "3.11.3"
  },
  "orig_nbformat": 4
 },
 "nbformat": 4,
 "nbformat_minor": 2
}
